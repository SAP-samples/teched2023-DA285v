{
 "cells": [
  {
   "cell_type": "code",
   "execution_count": 10,
   "metadata": {},
   "outputs": [],
   "source": [
    "!pip install -r requirements.txt"
   ]
  },
  {
   "cell_type": "code",
   "execution_count": 1,
   "metadata": {},
   "outputs": [],
   "source": [
    "# import required libraries\n",
    "import hana_ml\n",
    "import pandas as pd\n",
    "import requests\n",
    "from hana_ml.dataframe import ConnectionContext"
   ]
  },
  {
   "cell_type": "code",
   "execution_count": 8,
   "metadata": {},
   "outputs": [
    {
     "name": "stdout",
     "output_type": "stream",
     "text": [
      "HANA version: 4.00.000.00.1695725494 (fa/CE2023.28)\n",
      "hana-ml version: 2.18.23091401\n",
      "pandas version: 2.0.3\n"
     ]
    }
   ],
   "source": [
    "# Connect to SAP HANA Cloud\n",
    "# The JSON Document Store has to be enabled.\n",
    "# This does NOT work with SAP HANA Cloud free tier or trial!\n",
    "\n",
    "# Connect using secure store\n",
    "# cc = ConnectionContext(userkey='[userkey]', encrypt=True)\n",
    "\n",
    "host = '[YourHostName]' # e.g. somecharacters.hanacloud.ondemand.com\n",
    "port = 443\n",
    "user = '[YourUser]' # e.g. DBADMIN\n",
    "password = '[YourUserPassword]'\n",
    "cc= ConnectionContext(\n",
    "    address=host, \n",
    "    port=port, \n",
    "    user=user, \n",
    "    password=password, \n",
    "    encrypt='true'\n",
    "    )\n",
    "schema=\"DAT285\"\n",
    "print('HANA version:', cc.hana_version())\n",
    "print('hana-ml version:', hana_ml.__version__)\n",
    "print('pandas version:', pd.__version__)"
   ]
  },
  {
   "cell_type": "code",
   "execution_count": 4,
   "metadata": {},
   "outputs": [],
   "source": [
    "# All car ways\n",
    "# way[\"highway\"][\"area\"!~\"yes\"][\"highway\"!~\"abandoned|bridleway|bus_guideway|construction|corridor|cycleway|elevator|escalator|footway|path|pedestrian|planned|platform|proposed|raceway|service|steps|track\"][\"motor_vehicle\"!~\"no\"][\"motorcar\"!~\"no\"][\"service\"!~\"alley|driveway|emergency_access|parking|parking_aisle|private\"]\n",
    "\n",
    "# Orlando area (28.365266048079008,-81.54412854399905, 28.62735114041908, -81.25956141698434)\n",
    "overpass_query = \"\"\"\n",
    "    [out:json];\n",
    "    (\n",
    "    way(28.365266048079008,-81.54412854399905, 28.62735114041908, -81.25956141698434)[\"highway\"][\"area\"!~\"yes\"][\"highway\"!~\"abandoned|bridleway|bus_guideway|construction|corridor|cycleway|elevator|escalator|footway|path|pedestrian|planned|platform|proposed|raceway|service|steps|track\"][\"motor_vehicle\"!~\"no\"][\"motorcar\"!~\"no\"][\"service\"!~\"alley|driveway|emergency_access|parking|parking_aisle|private\"];\n",
    "    );\n",
    "    out body;\n",
    "    >;\n",
    "    out skel qt;\n",
    "\"\"\"\n",
    "overpass_url = \"http://overpass-api.de/api/interpreter\"\n",
    "response = requests.get(overpass_url, params={'data': overpass_query})\n",
    "data = response.json()"
   ]
  },
  {
   "cell_type": "code",
   "execution_count": 9,
   "metadata": {},
   "outputs": [],
   "source": [
    "# The overpass API resturns JSON which we can store in the HANA Document Store.\n",
    "from hana_ml.docstore import create_collection_from_elements\n",
    "coll = create_collection_from_elements(\n",
    "    connection_context = cc,\n",
    "    schema = schema,\n",
    "    collection_name = 'C_STREET_NETWORK',\n",
    "    elements = data[\"elements\"], \n",
    "    drop_exist_coll = True\n",
    "    )"
   ]
  }
 ],
 "metadata": {
  "kernelspec": {
   "display_name": "hanaml",
   "language": "python",
   "name": "python3"
  },
  "language_info": {
   "codemirror_mode": {
    "name": "ipython",
    "version": 3
   },
   "file_extension": ".py",
   "mimetype": "text/x-python",
   "name": "python",
   "nbconvert_exporter": "python",
   "pygments_lexer": "ipython3",
   "version": "3.8.10"
  },
  "orig_nbformat": 4,
  "vscode": {
   "interpreter": {
    "hash": "90de7e4af10fd388f3507a444777d024505179c9392b99bd418f3ac888f6310e"
   }
  }
 },
 "nbformat": 4,
 "nbformat_minor": 2
}
